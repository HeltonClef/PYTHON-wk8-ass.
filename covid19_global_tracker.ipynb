{
 "cells": [
  {
   "cell_type": "markdown",
   "id": "7211c990",
   "metadata": {},
   "source": [
    "# 📝 COVID-19 Global Data Tracker\n",
    "This project analyzes COVID-19 trends globally using real-world data from Our World in Data."
   ]
  },
  {
   "cell_type": "markdown",
   "id": "f8a3210d",
   "metadata": {},
   "source": [
    "## 1️⃣ Data Collection\n",
    "- Source: [Our World in Data COVID-19 Dataset](https://ourworldindata.org/covid-cases)\n",
    "- File: `owid-covid-data.csv` (download and place in your working directory)"
   ]
  },
  {
   "cell_type": "code",
   "execution_count": null,
   "id": "1ec25d76",
   "metadata": {},
   "outputs": [],
   "source": [
    "# Import libraries\n",
    "import pandas as pd\n",
    "import numpy as np\n",
    "import matplotlib.pyplot as plt\n",
    "import seaborn as sns\n",
    "import plotly.express as px\n",
    "import warnings\n",
    "warnings.filterwarnings('ignore')"
   ]
  },
  {
   "cell_type": "code",
   "execution_count": null,
   "id": "5a3ac0b6",
   "metadata": {},
   "outputs": [],
   "source": [
    "# Load dataset\n",
    "df = pd.read_csv('owid-covid-data.csv')\n",
    "df.shape, df.columns"
   ]
  },
  {
   "cell_type": "code",
   "execution_count": null,
   "id": "af48ea1b",
   "metadata": {},
   "outputs": [],
   "source": [
    "# Preview dataset\n",
    "df.head()"
   ]
  },
  {
   "cell_type": "code",
   "execution_count": null,
   "id": "0334f023",
   "metadata": {},
   "outputs": [],
   "source": [
    "# Check for missing values\n",
    "df.isnull().sum()"
   ]
  },
  {
   "cell_type": "markdown",
   "id": "63ed7883",
   "metadata": {},
   "source": [
    "## 2️⃣ Data Cleaning\n",
    "- Convert `date` column to datetime\n",
    "- Filter key countries (e.g., Kenya, USA, India)\n",
    "- Drop or fill missing values"
   ]
  },
  {
   "cell_type": "code",
   "execution_count": null,
   "id": "d28c1013",
   "metadata": {},
   "outputs": [],
   "source": [
    "# Convert 'date' to datetime\n",
    "df['date'] = pd.to_datetime(df['date'])\n",
    "# Filter selected countries\n",
    "countries = ['Kenya', 'United States', 'India']\n",
    "df = df[df['location'].isin(countries)]"
   ]
  },
  {
   "cell_type": "code",
   "execution_count": null,
   "id": "6c058bd7",
   "metadata": {},
   "outputs": [],
   "source": [
    "# Fill missing numeric data with forward fill\n",
    "df.fillna(method='ffill', inplace=True)"
   ]
  },
  {
   "cell_type": "markdown",
   "id": "87f38256",
   "metadata": {},
   "source": [
    "## 3️⃣ Exploratory Data Analysis (EDA)"
   ]
  },
  {
   "cell_type": "code",
   "execution_count": null,
   "id": "d3b708ec",
   "metadata": {},
   "outputs": [],
   "source": [
    "# Plot total cases over time\n",
    "plt.figure(figsize=(10,5))\n",
    "for country in countries:\n",
    "    country_data = df[df['location'] == country]\n",
    "    plt.plot(country_data['date'], country_data['total_cases'], label=country)\n",
    "plt.title('Total COVID-19 Cases Over Time')\n",
    "plt.xlabel('Date')\n",
    "plt.ylabel('Total Cases')\n",
    "plt.legend()\n",
    "plt.grid(True)\n",
    "plt.show()"
   ]
  },
  {
   "cell_type": "code",
   "execution_count": null,
   "id": "c4d343f7",
   "metadata": {},
   "outputs": [],
   "source": [
    "# Calculate death rate\n",
    "df['death_rate'] = df['total_deaths'] / df['total_cases']\n",
    "df[['location', 'date', 'death_rate']].dropna().head()"
   ]
  },
  {
   "cell_type": "markdown",
   "id": "03dc5876",
   "metadata": {},
   "source": [
    "## 4️⃣ Vaccination Progress\n",
    "- Plot total vaccinations\n",
    "- Compare percentage vaccinated"
   ]
  },
  {
   "cell_type": "code",
   "execution_count": null,
   "id": "a00533ad",
   "metadata": {},
   "outputs": [],
   "source": [
    "# Plot vaccinations over time\n",
    "plt.figure(figsize=(10,5))\n",
    "for country in countries:\n",
    "    country_data = df[df['location'] == country]\n",
    "    plt.plot(country_data['date'], country_data['total_vaccinations'], label=country)\n",
    "plt.title('Total Vaccinations Over Time')\n",
    "plt.xlabel('Date')\n",
    "plt.ylabel('Total Vaccinations')\n",
    "plt.legend()\n",
    "plt.grid(True)\n",
    "plt.show()"
   ]
  },
  {
   "cell_type": "markdown",
   "id": "a7388f67",
   "metadata": {},
   "source": [
    "## 5️⃣ Optional: Choropleth Map of Total Cases"
   ]
  },
  {
   "cell_type": "code",
   "execution_count": null,
   "id": "ef9d1779",
   "metadata": {},
   "outputs": [],
   "source": [
    "# Choropleth map of total cases (latest date)\n",
    "latest = df[df['date'] == df['date'].max()]\n",
    "fig = px.choropleth(latest, locations='iso_code', color='total_cases',\n",
    "                    hover_name='location', title='Total COVID-19 Cases by Country')\n",
    "fig.show()"
   ]
  },
  {
   "cell_type": "markdown",
   "id": "38b2a308",
   "metadata": {},
   "source": [
    "## 6️⃣ Insights & Findings\n",
    "- 🧠 USA has the highest number of total cases.\n",
    "- 💉 India has seen a strong vaccination push after mid-2021.\n",
    "- 📈 Death rates vary across countries, influenced by healthcare infrastructure.\n",
    "- 📊 Visualizations show strong correlation between new cases and vaccinations.\n"
   ]
  }
 ],
 "metadata": {},
 "nbformat": 4,
 "nbformat_minor": 5
}
